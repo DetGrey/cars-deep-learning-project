{
 "cells": [
  {
   "cell_type": "markdown",
   "id": "ea7478d1",
   "metadata": {},
   "source": [
    "# Logistic Regression Problem Formulation\n",
    "\n",
    "### 1. Goal\n",
    "> Predict whether a car is **American-made** (`origin = 1`) or **foreign-made** (`origin = 2 or 3`) using its technical specifications.\n",
    "\n",
    "### 2. Problem Statement\n",
    "> We want to classify cars as either American or foreign based on features such as `cylinders`, `displacement`, `horsepower`, `weight`, and `acceleration`. This is a binary classification task where the target variable is derived from the `origin` column.\n",
    "\n",
    "### 3. Target Variable\n",
    "- Original column: `origin`\n",
    "- Transformed binary label:\n",
    "  - `1` → American-made\n",
    "  - `0` → Foreign-made (Europe or Japan)\n",
    "\n",
    "### 4. Input Features\n",
    "- `cylinders`\n",
    "- `displacement`\n",
    "- `horsepower`\n",
    "- `weight`\n",
    "- `acceleration`\n",
    "\n",
    "These reflect that engine size, power, and design choices may differ by region.\n",
    "\n",
    "### 5. Hypotheses\n",
    "- **Null Hypothesis (H₀)**: None of the selected features significantly influence whether a car is American-made. All coefficients are zero.\n",
    "- **Alternative Hypothesis (H₁)**: At least one of the selected features significantly influences the likelihood that a car is American-made.\n",
    "\n",
    "### 6. Example Input\n",
    "```csv\n",
    "cylinders, displacement, horsepower, weight, acceleration\n",
    "4,113,95,2372,15\n",
    "```\n",
    "\n",
    "### 7. Predicted Output\n",
    "```csv\n",
    "0 → Foreign-made\n",
    "```"
   ]
  },
  {
   "cell_type": "markdown",
   "id": "1cb9b3c0",
   "metadata": {},
   "source": [
    "## The expected approach involves:\n",
    "\n",
    "1. Formulating the Model: Defining the linear combination of features and the sigmoid function.\n",
    "\n",
    "2. Using Gradient Descent: This is the standard optimization algorithm used to train the Logistic Regression model (just as it is used to train DNNs).\n",
    "\n",
    "3. Using the Sigmoid Function: This is the link function that maps the linear output to a probability between 0 and 1.\n",
    "\n",
    "4. Using the Log-Loss (Cross-Entropy) Function: This is the standard cost function for classification tasks like this."
   ]
  },
  {
   "cell_type": "code",
   "execution_count": null,
   "id": "e6900fa8",
   "metadata": {},
   "outputs": [],
   "source": [
    "import pandas as pd\n"
   ]
  }
 ],
 "metadata": {
  "kernelspec": {
   "display_name": "cars-deep-learning-project",
   "language": "python",
   "name": "python3"
  },
  "language_info": {
   "name": "python",
   "version": "3.13.7"
  }
 },
 "nbformat": 4,
 "nbformat_minor": 5
}
